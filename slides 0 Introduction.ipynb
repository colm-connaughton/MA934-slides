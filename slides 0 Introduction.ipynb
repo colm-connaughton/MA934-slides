{
 "cells": [
  {
   "cell_type": "markdown",
   "metadata": {
    "slideshow": {
     "slide_type": "slide"
    }
   },
   "source": [
    "# MA934 - Numerical algorithms and optimisation\n",
    "\n",
    "## Lecturer : Colm Connaughton\n",
    "\n",
    "__[Module web page](https://warwick.ac.uk/fac/sci/mathsys/courses/msc/ma934/resources/)__\n",
    "\n",
    "Email: __[C.P.Connaughton@warwick.ac.uk](mailto:C.P.Connaughton@warwick.ac.uk)__"
   ]
  },
  {
   "cell_type": "markdown",
   "metadata": {
    "slideshow": {
     "slide_type": "slide"
    }
   },
   "source": [
    "### Lecture and class times\n",
    "\n",
    "**Lectures**  \n",
    "Mondays 10:00 - 12:00 UK time via MS Teams  \n",
    "Tuesdays 10:00 - 12:00 UK time via MS Teams in weeks 1 and 2, then from week 3 face-to-face in D1.07 (Complexity Seminar Room, Zeeman Building). \n",
    "\n",
    "**Classes**  \n",
    "Mondays 13:00 - 15:00 UK time via MS Teams  \n",
    "Tuesdays 13:00 - 15:00 UK time via MS Teams in weeks 1 and 2, then from week 3 face-to-face in D1.07 (Complexity Seminar Room, Zeeman Building). "
   ]
  },
  {
   "cell_type": "markdown",
   "metadata": {
    "slideshow": {
     "slide_type": "slide"
    }
   },
   "source": [
    "### Assessment\n",
    "\n",
    "Oral examination (40%)\n",
    "\n",
    "Written class test (40%)\n",
    "\n",
    "Coursework (20%) - 2 graded assignments\n"
   ]
  },
  {
   "cell_type": "markdown",
   "metadata": {
    "slideshow": {
     "slide_type": "slide"
    }
   },
   "source": [
    "### Deadlines\n",
    "\n",
    "| item | Deadline |\n",
    "|-:-|-:-|\n",
    "|Assignment 1 | 12:00 noon (UK time) on Thursday 15 October.|\n",
    "|Assignment 2 | 12:00 noon (UK time) on Thursday 29 October |\n",
    "|Class test  | 13:00 (UK time) on Monday 02 November.|\n",
    "|Oral examinations | Tuesday 03 November.|"
   ]
  },
  {
   "cell_type": "markdown",
   "metadata": {
    "slideshow": {
     "slide_type": "slide"
    }
   },
   "source": [
    "### Software\n",
    "\n",
    "* MS Teams\n",
    "* julia\n",
    "* jupyter with IJulia kernel installed\n",
    "* git and an account on __(github)[https://github.com/]__\n",
    "* maybe LaTeX"
   ]
  },
  {
   "cell_type": "markdown",
   "metadata": {
    "slideshow": {
     "slide_type": "slide"
    }
   },
   "source": [
    "### Communication\n",
    "\n",
    "* Slack?\n",
    "* Discord?\n",
    "* Moodle?"
   ]
  },
  {
   "cell_type": "code",
   "execution_count": null,
   "metadata": {},
   "outputs": [],
   "source": []
  }
 ],
 "metadata": {
  "celltoolbar": "Slideshow",
  "kernelspec": {
   "display_name": "Julia 1.5.1",
   "language": "julia",
   "name": "julia-1.5"
  },
  "language_info": {
   "file_extension": ".jl",
   "mimetype": "application/julia",
   "name": "julia",
   "version": "1.5.1"
  }
 },
 "nbformat": 4,
 "nbformat_minor": 2
}
