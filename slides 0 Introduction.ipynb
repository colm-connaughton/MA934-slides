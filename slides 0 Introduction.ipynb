{
 "cells": [
  {
   "cell_type": "markdown",
   "metadata": {
    "slideshow": {
     "slide_type": "slide"
    }
   },
   "source": [
    "# MA934 - Numerical algorithms and optimisation\n",
    "\n",
    "## Lecturer : Colm Connaughton\n",
    "\n",
    "__[Module web page](https://warwick.ac.uk/fac/sci/mathsys/courses/msc/ma934/resources/)__\n",
    "\n",
    "Email: __[C.P.Connaughton@warwick.ac.uk](mailto:C.P.Connaughton@warwick.ac.uk)__\n",
    "\n",
    "### Attendance record \n",
    "__[https://warwick.ac.uk/fac/sci/maths/intranet/attendancerecord/](https://warwick.ac.uk/fac/sci/maths/intranet/attendancerecord/)__"
   ]
  },
  {
   "cell_type": "markdown",
   "metadata": {
    "slideshow": {
     "slide_type": "slide"
    }
   },
   "source": [
    "### Lecture and class times\n",
    "**Lectures**  \n",
    "* Mondays 10:00 - 12:00 UK time in D1.07 (Complexity Seminar Room, Zeeman Building) and online via MS Teams \n",
    "* Tuesdays 10:00 - 12:00 UK time in D1.07 (Complexity Seminar Room, Zeeman Building) and online via MS Teams\n",
    "\n",
    "**Classes**  \n",
    "* Mondays 13:00 - 15:00 UK time in D1.07 (Complexity Seminar Room, Zeeman Building) and online via MS Teams\n",
    "* Tuesdays 13:00 - 15:00 UK time in D1.07 (Complexity Seminar Room, Zeeman Building) and online via MS Teams. \n",
    "\n"
   ]
  },
  {
   "cell_type": "markdown",
   "metadata": {
    "slideshow": {
     "slide_type": "slide"
    }
   },
   "source": [
    "### Assessment\n",
    "\n",
    "Oral examination (40%)\n",
    "\n",
    "Written class test (40%)\n",
    "\n",
    "Coursework (20%) - 2 graded assignments\n"
   ]
  },
  {
   "cell_type": "markdown",
   "metadata": {
    "slideshow": {
     "slide_type": "slide"
    }
   },
   "source": [
    "### Deadlines\n",
    "\n",
    "| item | Deadline |\n",
    "|-:-|-:-|\n",
    "|Assignment 1 | 12:00 noon (UK time) on Thursday 14 October.|\n",
    "|Assignment 2 | 12:00 noon (UK time) on Thursday 28 October |\n",
    "|Class test  | 10:00-12:30 (UK time) on Monday 01 November.|\n",
    "|Oral examinations | Tuesday 02 November.|"
   ]
  },
  {
   "cell_type": "markdown",
   "metadata": {
    "slideshow": {
     "slide_type": "slide"
    }
   },
   "source": [
    "### Software\n",
    "\n",
    "* MS Teams\n",
    "* julia\n",
    "* jupyter with IJulia kernel installed\n",
    "* git and an account on github (__[https://github.com/](https://github.com/)__)\n",
    "* maybe LaTeX\n",
    "\n",
    "### Communication\n",
    "* MSTeams : __[Link to MA934 Team](https://teams.microsoft.com/l/team/19%3ad0tALFfzpLRQ9Rd-Hr-ep-KWM1KcnCJTScRQbWpIg4M1%40thread.tacv2/conversations?groupId=098cf573-2b57-4547-9d40-a368b0cf136f&tenantId=09bacfbd-47ef-4465-9265-3546f2eaf6bc)__"
   ]
  },
  {
   "cell_type": "code",
   "execution_count": null,
   "metadata": {},
   "outputs": [],
   "source": []
  }
 ],
 "metadata": {
  "celltoolbar": "Slideshow",
  "kernelspec": {
   "display_name": "Julia 1.6.0",
   "language": "julia",
   "name": "julia-1.6"
  },
  "language_info": {
   "file_extension": ".jl",
   "mimetype": "application/julia",
   "name": "julia",
   "version": "1.6.0"
  }
 },
 "nbformat": 4,
 "nbformat_minor": 2
}
