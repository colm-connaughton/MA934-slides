{
 "cells": [
  {
   "cell_type": "code",
   "execution_count": null,
   "metadata": {
    "slideshow": {
     "slide_type": "skip"
    }
   },
   "outputs": [],
   "source": [
    "using Plots\n",
    "using LaTeXStrings\n",
    "pyplot()\n",
    "# Set default fonts for all plots\n",
    "fnt = Plots.font(\"DejaVu Sans\", 8.0)\n",
    "default(titlefont=fnt, guidefont=fnt, tickfont=fnt, legendfont=fnt)"
   ]
  },
  {
   "cell_type": "markdown",
   "metadata": {
    "slideshow": {
     "slide_type": "slide"
    }
   },
   "source": [
    "## MA934\n",
    "\n",
    "## Floating point arithmetic\n",
    "\n",
    "### How computers approximate arithmetic"
   ]
  },
  {
   "cell_type": "markdown",
   "metadata": {
    "cell_style": "split",
    "slideshow": {
     "slide_type": "slide"
    }
   },
   "source": [
    "### Representation of unsigned integers\n",
    "\n",
    "Binary representation of (3 bit) integers:\n",
    "$$ b_2b_1b_0 = b_2\\,2^2 + b_1\\,2^1 + b_0\\,2^0 $$\n",
    "\n",
    "Finite maximum and minimum integers.\n",
    "Modern computers use 64 bits but Julia provides smaller (and larger) integer types.\n",
    "\n",
    "Here are the unsigned integer types:\n",
    "\n"
   ]
  },
  {
   "cell_type": "markdown",
   "metadata": {
    "cell_style": "split"
   },
   "source": [
    "|Type |Bits |Minimum |Maximum |\n",
    "|:- |--- | --- |---|\n",
    "|UInt8 | 8 |0 | $2^8 - 1$|\n",
    "|UInt16 | 16 |0 | $2^16 - 1$|\n",
    "|UInt32 | 32 |0 | $2^{32} - 1$|\n",
    "|UInt64 | 64 |0 | $2^{64} - 1$|\n",
    "|UInt128 | 128 |0 | $2^{128} - 1$|"
   ]
  },
  {
   "cell_type": "code",
   "execution_count": null,
   "metadata": {
    "cell_style": "split"
   },
   "outputs": [],
   "source": [
    "x=UInt8(33)\n",
    "bitstring(x)"
   ]
  },
  {
   "cell_type": "markdown",
   "metadata": {
    "cell_style": "split",
    "slideshow": {
     "slide_type": "slide"
    }
   },
   "source": [
    "### Representation of signed integers : two's complement\n",
    "The negative of $x>0$ is encoded using *two's complement*,\n",
    "\n",
    "> $\\overline{x}$ = flip all bits of $x$ and add 1.\n",
    "\n",
    "Example:  \n",
    "6 = 00000110,  \n",
    "$\\overline{6}$ = 11111001 + 1 = 11111010 "
   ]
  },
  {
   "cell_type": "markdown",
   "metadata": {
    "cell_style": "split"
   },
   "source": [
    "Signed integer types in Julia:\n",
    "\n",
    "|Type |Bits |Minimum |Maximum |\n",
    "|:- |--- | --- |---|\n",
    "|Int8 | 8 |$-2^7$ | $2^7 - 1$|\n",
    "|Int16 | 16 |$-2^{15}$ | $2^15 - 1$|\n",
    "|Int32 | 32 |$-2^{31}$ | $2^{31} - 1$|\n",
    "|Int64 | 64 |$-2^{63}$ | $2^{63} - 1$|\n",
    "|Int128 | 128 |$-2^{127}$ | $2^{127} - 1$|"
   ]
  },
  {
   "cell_type": "code",
   "execution_count": null,
   "metadata": {
    "cell_style": "split",
    "slideshow": {
     "slide_type": "-"
    }
   },
   "outputs": [],
   "source": [
    "bitstring(Int8(0))"
   ]
  },
  {
   "cell_type": "markdown",
   "metadata": {
    "cell_style": "center",
    "slideshow": {
     "slide_type": "slide"
    }
   },
   "source": [
    "### Advantages of two's complement \n",
    "\n",
    "Why not just use a \"sign\" bit?\n",
    "* Avoids two representations of zero.\n",
    "* Subtraction can be performed using the same hardware as addition:\n",
    "> Subtraction of y from x : add  two's complement of y to x and drop leading (\"overflow\") bit.\n",
    "\n",
    "* Example: $7 - 6 = 7 + \\overline{6}$ =  (check) "
   ]
  },
  {
   "cell_type": "markdown",
   "metadata": {
    "cell_style": "split",
    "slideshow": {
     "slide_type": "slide"
    }
   },
   "source": [
    "### Representation of real numbers\n",
    "\n",
    "Use a binary version of *normalised* scientific notation:\n",
    "$ x = -1^S \\times  (1.0+0.M) \\times 2^E $\n",
    "\n",
    "e.g. IEEE 754 32-bit (Float32): \n",
    "\n",
    "|Field |Size|Bits |\n",
    "| :-- | :-: | :-: |\n",
    "| Sign (S) | 1 | 31 |\n",
    "| Exponent (E + 127) | 8 | 23 - 30 |\n",
    "| Mantissa (M) | 23 | 0 - 22 |"
   ]
  },
  {
   "cell_type": "markdown",
   "metadata": {
    "cell_style": "split",
    "slideshow": {
     "slide_type": "-"
    }
   },
   "source": [
    "\"Bias\": if exponent is $E$, we store E+127 (for Float32).  This makes comparisons easier..\n",
    "\n",
    "![Float32](files/images/590px-Float_example.png)\n"
   ]
  },
  {
   "cell_type": "code",
   "execution_count": null,
   "metadata": {
    "cell_style": "split",
    "slideshow": {
     "slide_type": "-"
    }
   },
   "outputs": [],
   "source": [
    "bitstring(Float32(0.15625))"
   ]
  },
  {
   "cell_type": "markdown",
   "metadata": {
    "cell_style": "split",
    "slideshow": {
     "slide_type": "slide"
    }
   },
   "source": [
    "### Round-off error\n",
    "\n",
    "* Finite mantissae introduce errors when truncating real numbers whose binary expansion is longer than 23 (Float32) or 52 (Float64).\n",
    "* Round-off error is a feature of the hardware and cannot be avoided."
   ]
  },
  {
   "cell_type": "code",
   "execution_count": null,
   "metadata": {
    "cell_style": "split"
   },
   "outputs": [],
   "source": [
    "using Printf\n",
    "a = Float64(0.1); \n",
    "b = Float64(0.2); \n",
    "c = Float64(0.3);\n",
    "@printf(\"a = %.16e, b = %.16e, c = %.16e\", a, b, c);"
   ]
  },
  {
   "cell_type": "markdown",
   "metadata": {
    "cell_style": "split"
   },
   "source": [
    "This can lead to counter-intuitive behaviour:"
   ]
  },
  {
   "cell_type": "code",
   "execution_count": null,
   "metadata": {
    "cell_style": "split"
   },
   "outputs": [],
   "source": [
    "a + b == c"
   ]
  },
  {
   "cell_type": "markdown",
   "metadata": {
    "cell_style": "center",
    "slideshow": {
     "slide_type": "slide"
    }
   },
   "source": [
    "### Floating point arithmetic\n",
    "\n",
    "Rules for adding two floating point numbers:\n",
    "\n",
    "1. Rewrite the smaller number so its exponent matches that of the larger number.\n",
    "2. Add the mantissae.\n",
    "3. Normalise the sum.\n",
    "4. Round the sum.\n",
    "\n"
   ]
  },
  {
   "cell_type": "markdown",
   "metadata": {
    "slideshow": {
     "slide_type": "slide"
    }
   },
   "source": [
    "### Machine precision  "
   ]
  },
  {
   "cell_type": "code",
   "execution_count": null,
   "metadata": {
    "cell_style": "center"
   },
   "outputs": [],
   "source": [
    "a = Float64(1.0); b = Float64(10.0^(-10));\n",
    "println(a == 0.0, \" \", b ==0, \" \", a + b == a)"
   ]
  },
  {
   "cell_type": "markdown",
   "metadata": {},
   "source": [
    "The *machine precision* (or *machine epsilon*) is the smallest floating point number which when added to 1 gives an answer larger than one."
   ]
  },
  {
   "cell_type": "markdown",
   "metadata": {
    "slideshow": {
     "slide_type": "slide"
    }
   },
   "source": [
    "### Machine precision\n",
    "\n",
    "In Julia ``eps()`` gives the machine precision:"
   ]
  },
  {
   "cell_type": "code",
   "execution_count": null,
   "metadata": {},
   "outputs": [],
   "source": [
    "println(eps(Float32))\n",
    "println(eps(Float64))"
   ]
  },
  {
   "cell_type": "markdown",
   "metadata": {},
   "source": [
    "These values are $2.0^{-23}$ and $2.0^{-52}$, respectively."
   ]
  },
  {
   "cell_type": "markdown",
   "metadata": {
    "slideshow": {
     "slide_type": "slide"
    }
   },
   "source": [
    "### Loss of significance\n",
    "Subtraction of \"nearby\" numbers leads to loss of precision.\n",
    "\n",
    "Calculate sum and difference of 2 nearby numbers in 32-bit precision:"
   ]
  },
  {
   "cell_type": "code",
   "execution_count": null,
   "metadata": {},
   "outputs": [],
   "source": [
    "a32 = Float32(2.0) + Float32(3.0)^-12; b32 = Float32(2.0);\n",
    "sum32 = a32+b32; diff32 = a32 - b32;\n",
    "println(\"32 bit: a = \", a32, \", b = \", b32)\n",
    "println(\"32 bit: sum = \", sum32,\", difference = \", diff32 )"
   ]
  },
  {
   "cell_type": "markdown",
   "metadata": {
    "slideshow": {
     "slide_type": "slide"
    }
   },
   "source": [
    "### Loss of significance\n",
    "\n",
    "Now calculate the same sum and difference in 64 bit precision:"
   ]
  },
  {
   "cell_type": "code",
   "execution_count": null,
   "metadata": {},
   "outputs": [],
   "source": [
    "a64 = Float64(2.0) + Float64(3.0)^-12; b64 = Float64(2.0);\n",
    "sum64 = a64+b64; diff64 = a64 - b64;\n",
    "println(\"64 bit: a = \", a64, \", b = \", b64)\n",
    "println(\"64 bit: sum = \", sum64,\", difference = \", diff64 )"
   ]
  },
  {
   "cell_type": "markdown",
   "metadata": {
    "slideshow": {
     "slide_type": "slide"
    }
   },
   "source": [
    "### Loss of significance\n",
    "\n",
    "We can treat the 64 bit answer as \"exact\" compared to the 32 bit answer and calculate the relative error in the 32 bit result:"
   ]
  },
  {
   "cell_type": "code",
   "execution_count": null,
   "metadata": {},
   "outputs": [],
   "source": [
    "relErrSum = abs(sum64-sum32)/sum64\n",
    "relErrDiff = abs(diff64-diff32)/diff64\n",
    "println(\"Sum relative error = \", relErrSum)\n",
    "println(\"Difference relative error = \", relErrDiff)"
   ]
  },
  {
   "cell_type": "markdown",
   "metadata": {
    "slideshow": {
     "slide_type": "slide"
    }
   },
   "source": [
    "### Numerical instability\n",
    "\n",
    "Iterative calculations can lose precision by accumulation of round-off error:\n",
    "\n",
    "* Assuming inputs $\\sim 1$, each FP addition introduces an error of $\\sim \\epsilon_m$.\n",
    "* Might expect, after $n$ iterative steps, total error $\\sim \\sqrt{n}\\, \\epsilon_m$?\n",
    "\n",
    "However, some iterations can produce total error $\\sim e^n$ due to *instability*."
   ]
  },
  {
   "cell_type": "markdown",
   "metadata": {
    "slideshow": {
     "slide_type": "slide"
    }
   },
   "source": [
    "### Numerical instability: simple example\n",
    "\n",
    "Consider the following iterative procedures:\n",
    "\n",
    "P1 : $a_{n+1} = \\phi\\,a_n$ with $a_0 = 1$,  \n",
    "\n",
    "P2 : $a_{n+1} = a_{n-1} - a_{n}$ with $a_0 = 1$ and $a_1 = \\phi$,\n",
    "\n",
    "where $\\phi = (\\sqrt{5}-1)/2$.\n",
    "\n",
    "Both have the exact solution (check): \n",
    "$$a_n = \\phi^n.$$"
   ]
  },
  {
   "cell_type": "markdown",
   "metadata": {
    "slideshow": {
     "slide_type": "slide"
    }
   },
   "source": [
    "### Numerical instability: simple example\n",
    "\n",
    "However their numerical behaviour is very different for large $n$:"
   ]
  },
  {
   "cell_type": "code",
   "execution_count": null,
   "metadata": {},
   "outputs": [],
   "source": [
    "phi = Float32(0.5*(sqrt(5.)-1.)); n = 30\n",
    "# Allocate some Float32 arrays\n",
    "P1 = zeros(Float32, n); P2 = zeros(Float32, n);\n",
    "# Set initial conditions\n",
    "P1[1] = P2[1] = Float32(1.); P2[2] = phi;"
   ]
  },
  {
   "cell_type": "code",
   "execution_count": null,
   "metadata": {},
   "outputs": [],
   "source": [
    "for i in 2:n\n",
    "    P1[i] = phi*P1[i-1]\n",
    "end"
   ]
  },
  {
   "cell_type": "code",
   "execution_count": null,
   "metadata": {},
   "outputs": [],
   "source": [
    "for i in 3:n\n",
    "    P2[i] = P2[i-2] - P2[i-1]\n",
    "end"
   ]
  },
  {
   "cell_type": "markdown",
   "metadata": {
    "slideshow": {
     "slide_type": "slide"
    }
   },
   "source": [
    "### Numerical instability: simple example"
   ]
  },
  {
   "cell_type": "code",
   "execution_count": null,
   "metadata": {
    "slideshow": {
     "slide_type": "-"
    }
   },
   "outputs": [],
   "source": [
    "plot(1:n, P1, yscale=:log10, label=\"\", linewidth=2, linecolor=:red, xlabel=\"n\", ylabel=L\"\\left| a_n \\right|\")\n",
    "scatter!(1:n, P1, markercolor=:red, label = \"P1\", markersize=5)\n",
    "plot!(1:n, abs.(P2), label=\"\", linewidth=2, linecolor=:blue)\n",
    "scatter!(1:n, abs.(P2), markercolor=:blue, label = \"P2\", markersize=5)"
   ]
  },
  {
   "cell_type": "markdown",
   "metadata": {
    "slideshow": {
     "slide_type": "slide"
    }
   },
   "source": [
    "### Numerical instability: simple example\n",
    "\n",
    "What's going on? Due to round-off we have solved a different problem:\n",
    "\n",
    "P2 : $a_{n+1} = a_{n-1} - a_{n}$ with $a_0 = 1$ and $a_1 = \\phi + \\varepsilon$.\n",
    "\n",
    "The solution is\n",
    "$$ a_n = \\left(1 - \\frac{\\varepsilon}{\\sqrt{5}}\\right)\\,\\phi^n  + \\frac{\\varepsilon}{\\sqrt{5}}\\, \\tilde{\\phi}^n,$$\n",
    "where $\\tilde{\\phi} = (-\\sqrt{5}-1)/2$.  \n",
    "Notice that $\\left|\\tilde{\\phi}\\right| > 1$. This is an unstable iteration."
   ]
  }
 ],
 "metadata": {
  "celltoolbar": "Slideshow",
  "kernelspec": {
   "display_name": "Julia 1.5.1",
   "language": "julia",
   "name": "julia-1.5"
  },
  "language_info": {
   "file_extension": ".jl",
   "mimetype": "application/julia",
   "name": "julia",
   "version": "1.5.1"
  }
 },
 "nbformat": 4,
 "nbformat_minor": 2
}
