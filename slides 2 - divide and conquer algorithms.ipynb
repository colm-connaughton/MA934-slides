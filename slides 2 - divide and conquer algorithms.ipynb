{
 "cells": [
  {
   "cell_type": "code",
   "execution_count": null,
   "metadata": {},
   "outputs": [],
   "source": [
    "# Set up environment with correct dependencies\n",
    "using Pkg\n",
    "Pkg.activate(\".\")\n",
    "Pkg.instantiate()"
   ]
  },
  {
   "cell_type": "code",
   "execution_count": null,
   "metadata": {
    "slideshow": {
     "slide_type": "skip"
    }
   },
   "outputs": [],
   "source": [
    "using Plots\n",
    "using LaTeXStrings\n",
    "pyplot()\n",
    "# Set default fonts for all plots\n",
    "fnt = Plots.font(\"DejaVu Sans\", 8.0)\n",
    "default(titlefont=fnt, guidefont=fnt, tickfont=fnt, legendfont=fnt)"
   ]
  },
  {
   "cell_type": "markdown",
   "metadata": {
    "slideshow": {
     "slide_type": "slide"
    }
   },
   "source": [
    "## MA934\n",
    "\n",
    "## Divide and conquer algorithms\n",
    "\n",
    "### Estimating the computational complexity of numerical computations"
   ]
  },
  {
   "cell_type": "markdown",
   "metadata": {
    "slideshow": {
     "slide_type": "slide"
    }
   },
   "source": [
    "### Big O notation\n",
    "\n",
    "Given functions, $f(x)$ and $g(x)$, we say that $f(x) = \\mathcal{O}(g(x))$ if there exist  $x_0$ and $K > 0$ such that\n",
    "\n",
    "$$ \\left| f(x) \\right| \\leq K\\,g(x) $$\n",
    "\n",
    "for all $x> x_0$.  \n",
    "Used to describe an upper bound on the growth of a function, $f(x$), as its argument, $x$, tends to $\\infty$.\n"
   ]
  },
  {
   "cell_type": "markdown",
   "metadata": {
    "slideshow": {
     "slide_type": "slide"
    }
   },
   "source": [
    "### FLOPS and computational complexity \n",
    "\n",
    "FLOPS : Floating point operations per second\n",
    "\n",
    "The *Computational complexity* of an algorithm is the rate at which the total number of operations (additions, multiplications, comparisons) required to solve a problem of size $n$ grows with $n$. \n",
    "\n",
    "We denote this number of operations by $F(n)$. \n",
    "\n",
    "The more efficient the algorithm, the slower the $F(n)$ grows with $n$. "
   ]
  },
  {
   "cell_type": "markdown",
   "metadata": {
    "slideshow": {
     "slide_type": "slide"
    }
   },
   "source": [
    "### Example : standard matrix multiplication\n",
    "\n",
    "Consider calculating $C = A \\, B$  where $A$ and $B$ are $n\\times n$ matrices.  \n",
    "Using the standard algorithm, the $i\\,j$ entry of C is:\n",
    "\n",
    "$$c_{i\\,j} = \\sum_{k=1}^n a_{i\\,k}b_{k\\,j}.$$\n",
    "\n",
    "Needs $n$ multiplications and $n-1$ additions,  giving $2n-1$ ops in total. Since there are $n^2$ entries, the total number of ops required is $n^2\\,(2 n -1)$.\n",
    "\n",
    "Thus matrix multiplication has computational complexity $F(n) = \\mathcal{O}(n^3)$."
   ]
  },
  {
   "cell_type": "markdown",
   "metadata": {
    "slideshow": {
     "slide_type": "slide"
    }
   },
   "source": [
    "### Aside : Benchmarking in Julia\n",
    "\n",
    "The BenchmarkTools.jl package provides useful tools for measuring execution times and other benchmarks. Let's check matrix multiplication:"
   ]
  },
  {
   "cell_type": "code",
   "execution_count": null,
   "metadata": {
    "slideshow": {
     "slide_type": "fragment"
    }
   },
   "outputs": [],
   "source": [
    "using BenchmarkTools\n",
    "times = Float64[]; sizes = [2^i for i in 1:8]\n",
    "for n in sizes\n",
    "    A = rand(n,n); B = rand(n,n)\n",
    "    bm = @benchmark ($A)*($B) \n",
    "    push!(times, median(bm.times))\n",
    "    println(n, \" \", median(bm.times))\n",
    "end"
   ]
  },
  {
   "cell_type": "markdown",
   "metadata": {
    "slideshow": {
     "slide_type": "slide"
    }
   },
   "source": [
    "### Aside: Benchmarking in Julia\n",
    "\n",
    "Let's plot the results:"
   ]
  },
  {
   "cell_type": "code",
   "execution_count": null,
   "metadata": {
    "slideshow": {
     "slide_type": "fragment"
    }
   },
   "outputs": [],
   "source": [
    "scatter(sizes, times, yscale=:log10, xscale=:log10, \n",
    "    label=\"Measured\",ylabel=\"time (ns)\", xlabel=\"n\", markersize=8)\n",
    "plot!(sizes, 0.1*sizes.^3.0, label = L\"n^3\", linewidth=3)"
   ]
  },
  {
   "cell_type": "markdown",
   "metadata": {
    "slideshow": {
     "slide_type": "slide"
    }
   },
   "source": [
    "### A recursive approach to matrix multiplication\n",
    "\n",
    "Assuming that $n=2^m$, divide $\\mathbf{A}$, $\\mathbf{B}$ and $\\mathbf{C}$ into smaller matrices of size $\\frac{n}{2} \\times \\frac{n}{2}$,\n",
    "$$\n",
    "\\mathbf{A} = \\left(\n",
    "\\begin{array}{cc}\\mathbf{A}_{11}&\\mathbf{A}_{12}\\\\\n",
    "\\mathbf{A}_{21}&\\mathbf{A}_{22}\n",
    "\\end{array} \\right)\n",
    "\\hspace{0.5cm}\n",
    "\\mathbf{B} = \\left(\n",
    "\\begin{array}{cc}\\mathbf{B}_{11}&\\mathbf{B}_{12}\\\\\n",
    "\\mathbf{B}_{21}&\\mathbf{B}_{22}\n",
    "\\end{array} \\right)\n",
    "\\hspace{0.5cm}\n",
    "\\mathbf{C} = \\left(\n",
    "\\begin{array}{cc}\\mathbf{C}_{11}&\\mathbf{C}_{12}\\\\\n",
    "\\mathbf{C}_{21}&\\mathbf{C}_{22}\n",
    "\\end{array} \\right)\n",
    "$$\n",
    "The matrices $C_{i\\,j}$ are\n",
    "$$\n",
    "\\nonumber \\mathbf{C}_{11} = \\mathbf{A}_{11}\\mathbf{B}_{11}+\\mathbf{A}_{12}\\mathbf{B}_{21}\\\\\n",
    "\\nonumber \\mathbf{C}_{12} = \\mathbf{A}_{11}\\mathbf{B}_{21}+\\mathbf{A}_{12}\\mathbf{B}_{22}\\\\\n",
    "\\label{eq-DC1} \\mathbf{C}_{21} = \\mathbf{A}_{21}\\mathbf{B}_{11}+\\mathbf{A}_{22}\\mathbf{B}_{21}\\\\\n",
    "\\nonumber \\mathbf{C}_{22} = \\mathbf{A}_{21}\\mathbf{B}_{21}+\\mathbf{A}_{22}\\mathbf{B}_{22}.\n",
    "$$"
   ]
  },
  {
   "cell_type": "markdown",
   "metadata": {
    "cell_style": "split",
    "slideshow": {
     "slide_type": "slide"
    }
   },
   "source": [
    "### Divide and conquer strategy\n",
    "\n",
    "Multiplication of $n \\times n$ matrices can be expressed as multiplication (and addition) of $\\frac{n}{2} \\times \\frac{n}{2}$ matrices. Recursion leads to trivial $1 \\times 1$ matrices.  \n",
    "\n",
    "This is an example of what is called a \"divide and conquer\" strategy. "
   ]
  },
  {
   "cell_type": "markdown",
   "metadata": {
    "cell_style": "split"
   },
   "source": [
    "![Float32](files/images/recursionTree.jpg)"
   ]
  },
  {
   "cell_type": "markdown",
   "metadata": {},
   "source": [
    "**Divide-and-conquer**: break a problem into smaller subproblems of the same type, recursively solve the subproblems, and finally combine the solutions."
   ]
  },
  {
   "cell_type": "markdown",
   "metadata": {
    "slideshow": {
     "slide_type": "slide"
    }
   },
   "source": [
    "### Computational complexity of recursive matrix multiplication\n",
    "\n",
    "Is the recursive strategy better or worse than the iterative one?\n",
    "\n",
    "Let $F(n)$ be the ops required to multiply 2 matrices of size $n \\times n$.  \n",
    "We must have\n",
    "\n",
    "$$ F(n) =  8\\, F\\left(\\frac{n}{2}\\right) + 4\\,\\left(\\frac{n}{2}\\right)^2, $$\n",
    "\n",
    "since we have to do 8 multiplications and 4 additions of size $\\frac{n}{2}$.\n",
    "\n",
    "When the recursion reaches $n=1$, we have $F(1) = 1$.\n",
    "\n"
   ]
  },
  {
   "cell_type": "markdown",
   "metadata": {
    "cell_style": "split",
    "slideshow": {
     "slide_type": "slide"
    }
   },
   "source": [
    "### Solving for $F(n)$\n",
    "\n",
    "How do we solve such equations?  \n",
    "Trick: let  \n",
    "> $n = 2^p$  \n",
    "> $a_p = F(2^p).$ \n",
    "\n",
    "This gives a linear first order recursion relation\n",
    "$$ a_p = 8\\, a_{p-1} + 2^{2p}$$ \n",
    "\n",
    "with $a_0 = 1$."
   ]
  },
  {
   "cell_type": "markdown",
   "metadata": {
    "cell_style": "split",
    "slideshow": {
     "slide_type": "fragment"
    }
   },
   "source": [
    "The solution is\n",
    "$$a_p = 2^{2p}\\left(2^{p+1}-1 \\right).$$\n",
    "Returning to the original variables: $p = \\log_2 n$.\n",
    "\n",
    "$$ F(n) = n^2 \\left(2n - 1 \\right).$$\n",
    "\n",
    "In this case, the divide and conquer strategy gives the same answer as the iterative strategy ... but this is not always the case."
   ]
  },
  {
   "cell_type": "markdown",
   "metadata": {
    "slideshow": {
     "slide_type": "slide"
    }
   },
   "source": [
    "### The \"Master Theorem\"\n",
    "\n",
    "Let $a$ and $b$ be integers greater than or equal to 1 (usually $b=2$). Let $c$ and $d$ be positive and real. \n",
    "\n",
    "Given a recurrence relation of the form\n",
    "$$\n",
    "F(n) = \\left\\{\n",
    "\\begin{array}{ll}\n",
    "a\\, F(n/b) + n^c&\\mbox{if $n>1$}\\\\\n",
    "d&\\mbox{if $n=1$,}\n",
    "\\end{array}\n",
    "\\right.\n",
    "$$\n",
    "then if $n$ is a power of $b$, there are three cases:\n",
    "1. if $\\log_b(a) < c$ then $F(n) = O(n^c)$\n",
    "2. if $\\log_b(a) = c$ then $F(n) = O(n^c \\log(n))$\n",
    "3. if $\\log_b(a) > c$ then $F(n) = O(n^{\\log_b(a)})$."
   ]
  },
  {
   "cell_type": "markdown",
   "metadata": {
    "slideshow": {
     "slide_type": "slide"
    }
   },
   "source": [
    "### Matrix multiplication again: Strassen's algorithm\n",
    "\n",
    "An alternative (very non-obvious) divide and conquer strategy is:\n",
    "\n",
    "$$\n",
    "\\begin{array}{ll}\n",
    "\\mathbf{C}_{11} = \\mathbf{M}_{1}+\\mathbf{M}_{4}-\\mathbf{M}_{5}+\\mathbf{M}_{7} & \\mathbf{C}_{12} =\\mathbf{M}_{3}+\\mathbf{M}_{5}\\\\\n",
    "\\mathbf{C}_{21} = \\mathbf{M}_{2}+\\mathbf{M}_{4} & \\mathbf{C}_{22} = \\mathbf{M}_{1}-\\mathbf{M}_{2}+\\mathbf{M}_{3}+\\mathbf{M}_{6},\n",
    "\\end{array}\n",
    "$$\n",
    "\n",
    "where $\\mathbf{M}_1$ to $\\mathbf{M}_7$ are\n",
    "\n",
    "$$\n",
    "\\begin{array}{ll}\n",
    "\\mathbf{M}_{1} = \\left(\\mathbf{A}_{11}+\\mathbf{A}_{22}\\right)\\left(\\mathbf{B}_{11}+\\mathbf{B}_{22}\\right) &\n",
    "\\mathbf{M}_{2} = \\left(\\mathbf{A}_{21}+\\mathbf{A}_{22}\\right) \\mathbf{B}_{11}\\\\\n",
    "\\mathbf{M}_{3} = \\mathbf{A}_{11} \\left(\\mathbf{B}_{12}-\\mathbf{B}_{22}\\right)&\n",
    "\\mathbf{M}_{4} =  \\mathbf{A}_{22} \\left(\\mathbf{B}_{21}+\\mathbf{B}_{1}\\right)\\\\\n",
    "\\mathbf{M}_{5} =  \\left(\\mathbf{A}_{11}+\\mathbf{A}_{12}\\right) \\mathbf{B}_{22}&\n",
    "\\mathbf{M}_{6} = \\left(\\mathbf{A}_{21}-\\mathbf{A}_{11}\\right)\\left(\\mathbf{B}_{11}+\\mathbf{B}_{12}\\right)\\\\\n",
    "\\mathbf{M}_{7} =  \\left(\\mathbf{A}_{12}-\\mathbf{A}_{22}\\right)\\left(\\mathbf{B}_{21}+\\mathbf{B}_{22}\\right)&\n",
    " .\n",
    "\\end{array}\n",
    "$$"
   ]
  },
  {
   "cell_type": "markdown",
   "metadata": {
    "slideshow": {
     "slide_type": "slide"
    }
   },
   "source": [
    "### Computational complexity of Strassen multiplication\n",
    "\n",
    "These crazy formulae were dreamt up by Strassen (1969). The key point is that there are only 7 multiplications rather than 8. We have:\n",
    "$$ F(n) = 7\\,F\\left(\\frac{n}{2}\\right) + 18\\,\\left(\\frac{n}{2}\\right)^2$$,\n",
    "with $F(1)=1$. The solution is\n",
    "\n",
    "$$ F(n) = n^{\\log_2(7)} - 6 n^2 = \\mathcal{O}(n^{\\log_2(7)}).$$\n",
    "\n",
    "Check that this is consistent with the master theorem.\n",
    "\n",
    "Note that $\\log_2(7) \\approx 2.807 < 3$. Amazing!"
   ]
  },
  {
   "cell_type": "markdown",
   "metadata": {
    "slideshow": {
     "slide_type": "slide"
    }
   },
   "source": [
    "### Solving linear recursion relations\n",
    "\n",
    "We don't need to memorise the master theorem: linear recursion relations are very similar to linear differential equations.\n",
    "\n",
    "1st order case:\n",
    "$$a_{n} = b_1\\, a_{n-1} + f(n)\\ \\ \\ \\ \\  \\text{with initial condition}\\ \\  a_1 = A_1.$$ \n",
    "2nd order case:\n",
    "$$a_{n} = b_1\\, a_{n-1}+ b_2\\, a_{n-2} + f(n)\\ \\ \\ \\ \\  \\text{with initial conditions}\\ \\  a_1 = A_1,\\ a_2=A_2 $$ \n",
    "\n",
    "Solution procedure is the same in both cases:\n",
    "\n"
   ]
  },
  {
   "cell_type": "markdown",
   "metadata": {
    "slideshow": {
     "slide_type": "slide"
    }
   },
   "source": [
    "### Solving linear recursion relations\n",
    "1. Find the *general solution* of the homogeneous equation,\n",
    "$$ a_{n} = b_1\\, a_{n-1}\\ \\ \\  \\text{or}\\ \\ \\ a_{n} = b_1\\, a_{n-1}+ b_2\\, a_{n-2}$$\n",
    "with the ansatz $a_n = x^n$.  \n",
    "The solution will usually be of the form\n",
    "$$ a_n = C_1\\,x^n\\ \\ \\text{or}\\ \\ a_{n} = C_1\\,x_1^n + C_2\\,x_2^n,$$\n",
    "where the $C$'s are arbitrary constants.\n",
    "2. Find a *particular solution*, $\\alpha_n$, of the inhomogeneous equation.\n",
    "3. The full solution is\n",
    "$$ a_n = C_1\\,x^n +\\alpha_n\\ \\ \\text{or}\\ \\ a_{n} = C_1\\,x_1^n + C_2\\,x_2^n + \\alpha_n,$$\n",
    "Use the initial conditions to evaluate the constants, $C$."
   ]
  },
  {
   "cell_type": "markdown",
   "metadata": {
    "slideshow": {
     "slide_type": "slide"
    }
   },
   "source": [
    "### Solving linear recursion relations\n",
    "The tricky part is step 2 - need to \"guess\" a particular solution.\n",
    "\n",
    "A good guess is often a term, $\\text{const} \\times f(n)$, proportional to $f(n)$ (or sometimes a polynomial in $f(n)$).\n",
    "\n",
    "As for resonant ODEs, it can happen that the solution of the homogeneous equation is already proportional to $f(n)$\n",
    "\n",
    "In this case a good guess for the particular solution is $\\text{const}\\times n\\,f(n)$.\n",
    "\n",
    "See the excellent online notes available __[here](https://www.tutorialspoint.com/discrete_mathematics/discrete_mathematics_recurrence_relation.htm)__."
   ]
  }
 ],
 "metadata": {
  "celltoolbar": "Slideshow",
  "kernelspec": {
   "display_name": "Julia 1.5.1",
   "language": "julia",
   "name": "julia-1.5"
  },
  "language_info": {
   "file_extension": ".jl",
   "mimetype": "application/julia",
   "name": "julia",
   "version": "1.5.1"
  }
 },
 "nbformat": 4,
 "nbformat_minor": 2
}
