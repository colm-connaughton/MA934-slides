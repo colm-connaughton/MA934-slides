{
 "cells": [
  {
   "cell_type": "code",
   "execution_count": null,
   "metadata": {},
   "outputs": [],
   "source": [
    "using Plots\n",
    "using LaTeXStrings\n",
    "using Revise\n",
    "pyplot()\n",
    "# Set default fonts for all plots\n",
    "fnt = Plots.font(\"DejaVu Sans\", 8.0)\n",
    "default(titlefont=fnt, guidefont=fnt, tickfont=fnt, legendfont=fnt)"
   ]
  },
  {
   "cell_type": "markdown",
   "metadata": {
    "slideshow": {
     "slide_type": "slide"
    }
   },
   "source": [
    "## MA934\n",
    "\n",
    "## Data types and data structures\n",
    "\n",
    "### There is more to life than linear arrays..."
   ]
  },
  {
   "cell_type": "markdown",
   "metadata": {
    "slideshow": {
     "slide_type": "slide"
    }
   },
   "source": [
    "### Data types\n",
    "\n",
    "A *data type* is an attribute of data that tells the compiler/interpreter how that data will be used. For example, ```Float64``` and ```Int64``` are both 64-bit binary strings but are interpreted differently. \n",
    "\n",
    "*Primitive* types: ```Int64``` etc, ```Float32``` etc, ```Bool```,  ```Char```\n",
    "\n",
    "*Composite* types: derived from multiple primitive types: ```Array```, ```struct```.\n",
    "\n",
    "Julia also provides some special types: ```Any```, ```Nothing```, ```Union```  - see the [documentation](https://docs.julialang.org/en/v1/base/base/#Special-Types) for others.\n"
   ]
  },
  {
   "cell_type": "markdown",
   "metadata": {
    "cell_style": "split",
    "slideshow": {
     "slide_type": "slide"
    }
   },
   "source": [
    "### Working with types\n",
    "\n",
    "Julia provides functions for type checking that can be very useful:\n",
    "\n",
    "* ```typeof(x)``` : returns the type of x\n",
    "* ```isa(x, T)``` : checks if x has type T"
   ]
  },
  {
   "cell_type": "code",
   "execution_count": null,
   "metadata": {
    "cell_style": "split"
   },
   "outputs": [],
   "source": [
    "n = Int64(10)\n",
    "x = Float64(10.0)\n",
    "println((typeof(n), typeof(x)))"
   ]
  },
  {
   "cell_type": "code",
   "execution_count": null,
   "metadata": {
    "cell_style": "split"
   },
   "outputs": [],
   "source": [
    "println((isa(x, Int64), isa(x,Float64)))"
   ]
  },
  {
   "cell_type": "markdown",
   "metadata": {
    "cell_style": "split"
   },
   "source": [
    "Note ```DataType``` is itself a type:"
   ]
  },
  {
   "cell_type": "code",
   "execution_count": null,
   "metadata": {
    "cell_style": "split"
   },
   "outputs": [],
   "source": [
    "typeof(typeof(x))"
   ]
  },
  {
   "cell_type": "markdown",
   "metadata": {
    "slideshow": {
     "slide_type": "slide"
    }
   },
   "source": [
    "### The ```Nothing``` special type\n",
    "\n",
    "Confusingly, ```Nothing``` is a type that can only take the special value ```nothing```. This represents the value returned by functions which do not return anything."
   ]
  },
  {
   "cell_type": "code",
   "execution_count": null,
   "metadata": {},
   "outputs": [],
   "source": [
    "nada = Nothing()\n",
    "println(\"Type of nada: \", typeof(nada), \",  Value of nada : \", nada)"
   ]
  },
  {
   "cell_type": "markdown",
   "metadata": {},
   "source": [
    "Similar to the ```NULL``` value in C or ```None``` in Python."
   ]
  },
  {
   "cell_type": "markdown",
   "metadata": {
    "slideshow": {
     "slide_type": "slide"
    }
   },
   "source": [
    "### The ```Union``` special type\n",
    "\n",
    "The ```Union``` is a type that includes all instances of any of its argument types.\n"
   ]
  },
  {
   "cell_type": "code",
   "execution_count": null,
   "metadata": {},
   "outputs": [],
   "source": [
    "intOrString = Union{Int64, String}\n",
    "n = Int64(42)\n",
    "s = \"Hello world\"\n",
    "println((typeof(n), typeof(s)))\n",
    "println((isa(n, intOrString), isa(s, intOrString)))"
   ]
  },
  {
   "cell_type": "markdown",
   "metadata": {},
   "source": [
    "Particularly useful are unions like ```Union(Float64, Nothing)``` to represent the possibility of absent values."
   ]
  },
  {
   "cell_type": "markdown",
   "metadata": {
    "cell_style": "split",
    "slideshow": {
     "slide_type": "slide"
    }
   },
   "source": [
    "### Composite data types\n",
    "\n",
    "A collection of named fields, that can be treated as a single value. \n",
    "* Defined in Julia using the ```struct``` keyword:\n",
    "* By default a struct cannot be changed once instantiated.\n",
    "* Use ```mutable struct``` keyword to change this."
   ]
  },
  {
   "cell_type": "code",
   "execution_count": null,
   "metadata": {
    "cell_style": "split"
   },
   "outputs": [],
   "source": [
    "module tmp\n",
    "\n",
    "struct point\n",
    "    x::Float64\n",
    "    y::Float64\n",
    "    label::String\n",
    "end\n",
    "\n",
    "end\n",
    "P = tmp.point(1.0, 2.0, \"point A\")\n",
    "println(\"x = \", P.x, \",  y = \", P.y, \", label is: \", P.label )"
   ]
  },
  {
   "cell_type": "code",
   "execution_count": null,
   "metadata": {
    "cell_style": "split"
   },
   "outputs": [],
   "source": [
    "P.x = -1.0"
   ]
  },
  {
   "cell_type": "markdown",
   "metadata": {
    "cell_style": "split",
    "slideshow": {
     "slide_type": "slide"
    }
   },
   "source": [
    "### Constructors\n",
    "\n",
    "* A *constructor* is a function called to initialise a struct.\n",
    "* A default constructor is defined automatically:\n",
    "```\n",
    "point(::Float64, ::Float64, ::String)\n",
    "```\n",
    "* Two types: *outer* and *inner*."
   ]
  },
  {
   "cell_type": "markdown",
   "metadata": {
    "cell_style": "split"
   },
   "source": [
    "We can define our own outer constructors like any other function:"
   ]
  },
  {
   "cell_type": "code",
   "execution_count": null,
   "metadata": {
    "cell_style": "split"
   },
   "outputs": [],
   "source": [
    "point(x::Float64) = tmp.point(x,x,\"\")"
   ]
  },
  {
   "cell_type": "code",
   "execution_count": null,
   "metadata": {
    "cell_style": "split"
   },
   "outputs": [],
   "source": [
    "P = point(1.0)"
   ]
  },
  {
   "cell_type": "markdown",
   "metadata": {
    "cell_style": "split",
    "slideshow": {
     "slide_type": "slide"
    }
   },
   "source": [
    "### Inner constructors\n",
    "\n",
    "\n",
    "1. are declared *inside* the type declaration.\n",
    "2. have access to special function ```new``` that creates an uninitialised instance of the type."
   ]
  },
  {
   "cell_type": "markdown",
   "metadata": {
    "cell_style": "split"
   },
   "source": [
    "Useful for enforcing constraints and building self-referential objects."
   ]
  },
  {
   "cell_type": "code",
   "execution_count": null,
   "metadata": {
    "cell_style": "split"
   },
   "outputs": [],
   "source": [
    "module tmp\n",
    "struct OrderedPair\n",
    "    x::Real\n",
    "    y::Real\n",
    "    OrderedPair(x,y) = x > y ? \n",
    "        println(\"out of order\") : \n",
    "        new(x,y)\n",
    "end\n",
    "end"
   ]
  },
  {
   "cell_type": "code",
   "execution_count": null,
   "metadata": {
    "cell_style": "split"
   },
   "outputs": [],
   "source": [
    "x = tmp.OrderedPair(3.0, 2.3)"
   ]
  },
  {
   "cell_type": "code",
   "execution_count": null,
   "metadata": {
    "slideshow": {
     "slide_type": "skip"
    }
   },
   "outputs": [],
   "source": [
    "### More explicit version of the inner constructor example\n",
    "module tmp\n",
    "struct OrderedPair\n",
    "    x::Real\n",
    "    y::Real\n",
    "    \n",
    "    function OrderedPair(x,y)\n",
    "        println(\"This is the inner constructor\")\n",
    "        if x > y \n",
    "            println(\"out of order\")\n",
    "        else\n",
    "            return new(x,y)\n",
    "        end\n",
    "    end\n",
    "    \n",
    "end\n",
    "end\n",
    "\n",
    "x = tmp.OrderedPair(1.0, 2.0)"
   ]
  },
  {
   "cell_type": "markdown",
   "metadata": {
    "cell_style": "center",
    "slideshow": {
     "slide_type": "slide"
    }
   },
   "source": [
    "### Data structures?\n",
    "\n",
    "A data structure is a specialised way of organising data in a computer so that certain operations can be performed efficiently.\n",
    "\n",
    "* Composite types are simplest examples.\n",
    "* *Static* data structures have a fixed size. *Dynamic* data structures can grow and shrink depending on the data that they contain.\n",
    "* Associated with almost every data structure is a set of basic operations that it is designed to perform efficiently (conversely some other operations might be very inefficient or impossible.)\n"
   ]
  },
  {
   "cell_type": "markdown",
   "metadata": {
    "cell_style": "split",
    "slideshow": {
     "slide_type": "slide"
    }
   },
   "source": [
    "### Examples of some common data structures"
   ]
  },
  {
   "cell_type": "markdown",
   "metadata": {
    "cell_style": "split",
    "slideshow": {
     "slide_type": "-"
    }
   },
   "source": [
    "* Linear arrays\n",
    "* Linked lists\n",
    "* Stacks\n",
    "* Queues"
   ]
  },
  {
   "cell_type": "markdown",
   "metadata": {
    "cell_style": "split"
   },
   "source": [
    "* Hash tables\n",
    "* Binary trees\n",
    "* Heaps\n",
    "* Graphs"
   ]
  },
  {
   "cell_type": "markdown",
   "metadata": {
    "cell_style": "split",
    "slideshow": {
     "slide_type": "slide"
    }
   },
   "source": [
    "### Arrays\n",
    "\n",
    "<img src=\"files/images/array.png\" alt=\"array\" style=\"width: 600px;\"/>  \n"
   ]
  },
  {
   "cell_type": "markdown",
   "metadata": {
    "cell_style": "split"
   },
   "source": [
    "Basic operations:\n",
    "\n",
    "* access(i) : return get value at index i\n",
    "* update(i,v) : set value at index i equal to v.\n",
    "\n",
    "insert() and delete() not possible - static data structure.\n",
    "\n",
    "Building block for many other data structures."
   ]
  },
  {
   "cell_type": "markdown",
   "metadata": {
    "slideshow": {
     "slide_type": "slide"
    }
   },
   "source": [
    "### Linked lists\n",
    "\n",
    "<img src=\"files/images/list.png\" alt=\"array\" style=\"width: 1000px;\"/>  \n"
   ]
  },
  {
   "cell_type": "markdown",
   "metadata": {},
   "source": [
    "A linked list is a sequence of elements called *nodes* in linear order that are linked to each other.\n",
    "\n",
    "The first/last node is called the *head*/*tail* respectively."
   ]
  },
  {
   "cell_type": "markdown",
   "metadata": {
    "slideshow": {
     "slide_type": "slide"
    }
   },
   "source": [
    "### Linked lists\n",
    "\n",
    "<img src=\"files/images/list.png\" alt=\"array\" style=\"width: 1000px;\"/>  \n"
   ]
  },
  {
   "cell_type": "markdown",
   "metadata": {},
   "source": [
    "* Each node consists of a data container and a link to the next node.\n",
    "* Dynamic data structure but only sequential access is possible.\n",
    "* Variants: singly linked, doubly linked, circularly linked."
   ]
  },
  {
   "cell_type": "markdown",
   "metadata": {
    "slideshow": {
     "slide_type": "slide"
    }
   },
   "source": [
    "### Linked lists : basic operations\n",
    "\n",
    "<img src=\"files/images/list.png\" alt=\"array\" style=\"width: 1000px;\"/>  \n"
   ]
  },
  {
   "cell_type": "markdown",
   "metadata": {},
   "source": [
    "* search(x): determine if data x is in the list (and perhaps return a reference to it).\n",
    "* insert(x): add new node with data x at beginning/middle/end. \n",
    "* delete(x): delete node with data x from the list."
   ]
  },
  {
   "cell_type": "markdown",
   "metadata": {
    "slideshow": {
     "slide_type": "slide"
    }
   },
   "source": [
    "### Aside: pointers and references\n",
    "\n",
    "Discussions of linked lists often refer to linking nodes using *pointers*. A pointer (especially in C/C++) is a data type that contains the memory address of another object/variable.\n",
    "\n",
    "Julia does not have pointers - variables are accessed via *references*.\n",
    "\n",
    "A reference is also a data type that contains the memory address of another object/variable."
   ]
  },
  {
   "cell_type": "markdown",
   "metadata": {
    "cell_style": "split",
    "slideshow": {
     "slide_type": "slide"
    }
   },
   "source": [
    "### Aside: pointers and references - so what's the difference?\n",
    "\n",
    "* A reference must refer to an existing object. It cannot change once created.\n",
    "* A pointer can be NULL and can be updated to refer to a different memory location by changing its value."
   ]
  },
  {
   "cell_type": "markdown",
   "metadata": {
    "cell_style": "split"
   },
   "source": [
    "Pointers are powerful but dangerous:\n",
    "* segmentation faults\n",
    "* memory leaks\n",
    "* dangling pointers"
   ]
  },
  {
   "cell_type": "markdown",
   "metadata": {
    "cell_style": "split",
    "slideshow": {
     "slide_type": "fragment"
    }
   },
   "source": [
    "If [Maslov](https://en.wikipedia.org/wiki/Law_of_the_instrument) were a software engineer:\n",
    "\n",
    "\"When the only tool you have is C++, every problem looks like your thumb\"."
   ]
  },
  {
   "cell_type": "markdown",
   "metadata": {
    "cell_style": "split",
    "slideshow": {
     "slide_type": "slide"
    }
   },
   "source": [
    "### Stacks\n",
    "\n",
    "<img src=\"files/images/stack.png\" alt=\"array\" style=\"width: 400px;\"/>  \n"
   ]
  },
  {
   "cell_type": "markdown",
   "metadata": {
    "cell_style": "split"
   },
   "source": [
    "A *stack* is a linear data store with a LIFO (Last In First Out) access protocol: the last inserted element must be accessed first.\n",
    "\n",
    "Can be static or dynamic.\n",
    "\n",
    "So named because it resembles a stack of plates...\n",
    "\n",
    "Used, for example, to implement function calls in recursive programming. \n"
   ]
  },
  {
   "cell_type": "markdown",
   "metadata": {
    "cell_style": "split",
    "slideshow": {
     "slide_type": "slide"
    }
   },
   "source": [
    "### Stacks :  basic operations\n",
    "\n",
    "<img src=\"files/images/stack.png\" alt=\"array\" style=\"width: 400px;\"/>  \n"
   ]
  },
  {
   "cell_type": "markdown",
   "metadata": {
    "cell_style": "split"
   },
   "source": [
    "* push(x) : add the element x to the top of the stack.\n",
    "* pop() : remove the top element from the stack and return it.\n",
    "* peek() : return the top elemt from the stack without deleting it.\n",
    "* isempty() : check if the stack is empty."
   ]
  },
  {
   "cell_type": "markdown",
   "metadata": {
    "cell_style": "split",
    "slideshow": {
     "slide_type": "slide"
    }
   },
   "source": [
    "### Queues\n",
    "\n",
    "<img src=\"files/images/queue.png\" alt=\"queue\" style=\"width: 400px;\"/>  "
   ]
  },
  {
   "cell_type": "markdown",
   "metadata": {
    "cell_style": "split"
   },
   "source": [
    "A *queue* is a linear data store with a FIFO (First In First Out) access protocol: the first inserted element must be accessed first.\n",
    "\n",
    "Can be static or dynamic.\n",
    "\n",
    "So named because it resembles a real queue!\n",
    "\n",
    "Used, for example, to serve requests on a shared resource."
   ]
  },
  {
   "cell_type": "markdown",
   "metadata": {
    "cell_style": "split",
    "slideshow": {
     "slide_type": "slide"
    }
   },
   "source": [
    "### Queues : basic operations\n",
    "\n",
    "<img src=\"files/images/queue.png\" alt=\"queue\" style=\"width: 400px;\"/>  "
   ]
  },
  {
   "cell_type": "markdown",
   "metadata": {
    "cell_style": "split"
   },
   "source": [
    "* enqueue(x): insert element x to the end of the queue. \n",
    "* dequeue(): return the element at the beginning of the queue and delete it from the queue."
   ]
  },
  {
   "cell_type": "markdown",
   "metadata": {
    "cell_style": "split",
    "slideshow": {
     "slide_type": "slide"
    }
   },
   "source": [
    "### Hash tables (also associative array or dictionary)\n",
    "\n",
    "<img src=\"files/images/hash.png\" alt=\"hash\" style=\"width: 600px;\"/>  "
   ]
  },
  {
   "cell_type": "markdown",
   "metadata": {
    "cell_style": "split"
   },
   "source": [
    "A hash table stores a set of values, \n",
    "$$\\left\\{A, B, C, D, E\\right\\},$$ \n",
    "associated with a set of keys,\n",
    "$$\\left\\{key\\ A, key\\ B, key\\ C, key\\ D, key\\ E\\right\\},$$\n",
    "in a way that supports efficient lookup - i.e. $\\mathcal{O}(1)$.\n",
    "\n",
    "Direct addressing (convert key X to an integer, k, and store value X in slot k) is often not feasible."
   ]
  },
  {
   "cell_type": "markdown",
   "metadata": {
    "cell_style": "split",
    "slideshow": {
     "slide_type": "slide"
    }
   },
   "source": [
    "### Hash tables - an example\n",
    "\n",
    "Suppose the keys are integers in the range 1 - 1024 and we need to store, say, 4 random key-value pairs. \n",
    "\n",
    "* Direct addressing would require an array of size 1024.\n",
    "* Instead use an array of size 23 and the hash function\n",
    "$$h(k) = k\\%23 + 1$$"
   ]
  },
  {
   "cell_type": "code",
   "execution_count": null,
   "metadata": {
    "cell_style": "split"
   },
   "outputs": [],
   "source": [
    "keys = rand(0:1024, 4)\n",
    "idx = [k%23 + 1 for k in keys]\n",
    "for i in 1:4\n",
    "    println(\"Key \", keys[i], \" -> \", \" index \",idx[i])\n",
    "end"
   ]
  },
  {
   "cell_type": "markdown",
   "metadata": {
    "cell_style": "split"
   },
   "source": [
    "Of course need a strategy to resolve conflicts. e.g. use buckets.\n",
    "\n",
    "Probability of conflicts grows as the *load factor* (# entries/#buckets) increases."
   ]
  },
  {
   "cell_type": "markdown",
   "metadata": {
    "cell_style": "split",
    "slideshow": {
     "slide_type": "slide"
    }
   },
   "source": [
    "### Binary trees\n",
    "\n",
    "<img src=\"files/images/tree.png\" alt=\"tree\" style=\"width: 600px;\"/>  "
   ]
  },
  {
   "cell_type": "markdown",
   "metadata": {
    "cell_style": "split"
   },
   "source": [
    "A binary tree is a hierarchical data structure in which nodes are linked together in parent/child relationships.\n",
    "\n",
    "Each node contains a data container and pointers/references to left and right child nodes.\n",
    "\n",
    "*Height* of the tree : maximal number of edges from the *root* to the *leaves*."
   ]
  },
  {
   "cell_type": "markdown",
   "metadata": {
    "slideshow": {
     "slide_type": "slide"
    }
   },
   "source": [
    "### Structural recursion\n",
    "\n",
    "Note that linked lists and binary trees have a recursive aspect:\n",
    "\n",
    "* A linked list is either empty, or a node followed by a list.\n",
    "* A binary tree is either empty, or a node with two binary trees as children.\n",
    "\n",
    "Such data structures can actually be *defined* in a self-referential way. This is called *structural recursion*."
   ]
  },
  {
   "cell_type": "markdown",
   "metadata": {
    "cell_style": "split",
    "slideshow": {
     "slide_type": "slide"
    }
   },
   "source": [
    "### Structural recursion in Julia\n",
    "\n",
    "Recursive definition of the linked list type:\n",
    "\n",
    "```\n",
    "mutable struct LinkedList\n",
    "    data::Any\n",
    "    next::LinkedList\n",
    "end\n",
    "```"
   ]
  },
  {
   "cell_type": "code",
   "execution_count": null,
   "metadata": {
    "cell_style": "split"
   },
   "outputs": [],
   "source": [
    "module tmp\n",
    "mutable struct LinkedList\n",
    "    data::Any\n",
    "    next::LinkedList\n",
    "end\n",
    "end"
   ]
  },
  {
   "cell_type": "markdown",
   "metadata": {
    "cell_style": "split",
    "slideshow": {
     "slide_type": "fragment"
    }
   },
   "source": [
    "Doesn't quite work due to initialisation problem:"
   ]
  },
  {
   "cell_type": "code",
   "execution_count": null,
   "metadata": {
    "cell_style": "split"
   },
   "outputs": [],
   "source": [
    "L = tmp.LinkedList(0.0,nothing)"
   ]
  },
  {
   "cell_type": "markdown",
   "metadata": {
    "cell_style": "split",
    "slideshow": {
     "slide_type": "slide"
    }
   },
   "source": [
    "### Structural recursion in Julia: \n",
    "\n",
    "**Method 1**: use the ```Union``` type:\n",
    "```\n",
    "mutable struct LinkedList\n",
    "    data::Any\n",
    "    next::Union{LinkedList, Nothing}\n",
    "end\n",
    "```\n",
    "\n",
    "Worksheet 3 demonstrates this method."
   ]
  },
  {
   "cell_type": "markdown",
   "metadata": {
    "cell_style": "split",
    "slideshow": {
     "slide_type": "fragment"
    }
   },
   "source": [
    "**Method 2**: use an inner constructor:\n",
    "\n",
    "```\n",
    "mutable struct LinkedList\n",
    "  data::Any\n",
    "  next::LinkedList\n",
    "  \n",
    "  LinkedList() = (x=new();  \n",
    "  x.next=x; x)\n",
    "  \n",
    "  LinkedList(d::Any,L::LinkedList)   = new(d,L)\n",
    "end\n",
    "```"
   ]
  },
  {
   "cell_type": "markdown",
   "metadata": {
    "slideshow": {
     "slide_type": "slide"
    }
   },
   "source": [
    "### Method 2 implementation - type definition"
   ]
  },
  {
   "cell_type": "code",
   "execution_count": null,
   "metadata": {
    "slideshow": {
     "slide_type": "-"
    }
   },
   "outputs": [],
   "source": [
    "mutable struct LinkedList\n",
    "    data::Any\n",
    "    next::LinkedList\n",
    "    LinkedList() = (x=new(); x.next=x; x)\n",
    "    LinkedList(d::Any, L::LinkedList) = new(d,L)\n",
    "end"
   ]
  },
  {
   "cell_type": "markdown",
   "metadata": {
    "slideshow": {
     "slide_type": "slide"
    }
   },
   "source": [
    "### Method 2 implementation - function to add item"
   ]
  },
  {
   "cell_type": "code",
   "execution_count": null,
   "metadata": {
    "slideshow": {
     "slide_type": "-"
    }
   },
   "outputs": [],
   "source": [
    "function add!(L::LinkedList, d::Any)\n",
    "    global L = LinkedList(d, L)\n",
    "end"
   ]
  },
  {
   "cell_type": "markdown",
   "metadata": {
    "slideshow": {
     "slide_type": "slide"
    }
   },
   "source": [
    "### Method 2 implementation - function to remove item"
   ]
  },
  {
   "cell_type": "code",
   "execution_count": null,
   "metadata": {
    "slideshow": {
     "slide_type": "-"
    }
   },
   "outputs": [],
   "source": [
    "function pop!(L::LinkedList)\n",
    "    if L.next == L\n",
    "        println(\"List is empty\")\n",
    "        return\n",
    "    else\n",
    "        d = L.data\n",
    "        global L = L.next\n",
    "        return d\n",
    "    end\n",
    "end"
   ]
  },
  {
   "cell_type": "markdown",
   "metadata": {
    "slideshow": {
     "slide_type": "slide"
    }
   },
   "source": [
    "### Method 2 implementation - function to print all items "
   ]
  },
  {
   "cell_type": "code",
   "execution_count": null,
   "metadata": {
    "slideshow": {
     "slide_type": "-"
    }
   },
   "outputs": [],
   "source": [
    "function Base.print(L::LinkedList)\n",
    "    if L.next == L\n",
    "        return\n",
    "    else\n",
    "        println(L.data)\n",
    "        print(L.next)\n",
    "    end\n",
    "end"
   ]
  },
  {
   "cell_type": "markdown",
   "metadata": {
    "slideshow": {
     "slide_type": "slide"
    }
   },
   "source": [
    "### Testing the code"
   ]
  },
  {
   "cell_type": "code",
   "execution_count": null,
   "metadata": {
    "slideshow": {
     "slide_type": "-"
    }
   },
   "outputs": [],
   "source": [
    "data = ['J','u','l','i','a']\n",
    "L = LinkedList()"
   ]
  },
  {
   "cell_type": "code",
   "execution_count": null,
   "metadata": {
    "slideshow": {
     "slide_type": "fragment"
    }
   },
   "outputs": [],
   "source": [
    "for item in data\n",
    "    add!(L,item)\n",
    "end"
   ]
  },
  {
   "cell_type": "code",
   "execution_count": null,
   "metadata": {
    "slideshow": {
     "slide_type": "fragment"
    }
   },
   "outputs": [],
   "source": [
    "print(L)"
   ]
  },
  {
   "cell_type": "markdown",
   "metadata": {
    "slideshow": {
     "slide_type": "slide"
    }
   },
   "source": [
    "### Testing the code"
   ]
  },
  {
   "cell_type": "code",
   "execution_count": null,
   "metadata": {
    "slideshow": {
     "slide_type": "-"
    }
   },
   "outputs": [],
   "source": [
    "pop!(L)\n",
    "print(L)"
   ]
  },
  {
   "cell_type": "markdown",
   "metadata": {
    "slideshow": {
     "slide_type": "fragment"
    }
   },
   "source": [
    "This is actually a list-based implementation of a stack."
   ]
  },
  {
   "cell_type": "markdown",
   "metadata": {
    "cell_style": "split",
    "slideshow": {
     "slide_type": "slide"
    }
   },
   "source": [
    "### Binary search trees (BST)\n",
    "A BST stores integer keys in a sorted order to facilitate fast search:\n",
    "* All nodes, y, in left subtree of any node, x, have y.key ≤ x.key.\n",
    "* All nodes, y, in the right subtree of any node x, have y.key ≥ x.key."
   ]
  },
  {
   "cell_type": "markdown",
   "metadata": {
    "cell_style": "split"
   },
   "source": [
    "Here is a BST storing the keys {0,1,2,3,5,6,7,9}\n",
    "<img src=\"files/images/BST1.png\" alt=\"BST1\" style=\"width: 400px;\"/>  "
   ]
  },
  {
   "cell_type": "markdown",
   "metadata": {
    "cell_style": "split",
    "slideshow": {
     "slide_type": "slide"
    }
   },
   "source": [
    "### Binary search trees (BST)\n",
    "A BST stores integer keys in a sorted order to facilitate fast search:\n",
    "* Nodes, y, in left subtree of node, x, have y.key ≤ x.key.\n",
    "* Nodes, y, in the right subtree of node x, have y.key ≥ x.key."
   ]
  },
  {
   "cell_type": "markdown",
   "metadata": {
    "cell_style": "split",
    "slideshow": {
     "slide_type": "-"
    }
   },
   "source": [
    "Here is a another BST storing the keys {0,1,2,3,5,6,7,9}\n",
    "\n",
    "<img src=\"files/images/BST2.png\" alt=\"BST2\" style=\"width: 400px;\"/>  \n",
    "\n",
    "Not unique."
   ]
  },
  {
   "cell_type": "markdown",
   "metadata": {
    "cell_style": "split",
    "slideshow": {
     "slide_type": "slide"
    }
   },
   "source": [
    "### Fast search :\n",
    "Recursive algorithm to search for a key in a BST.\n",
    "\n",
    "Maximum number of comparisons is the depth of the tree.\n",
    "\n",
    "If the tree is *balanced*, depth is $\\mathcal{O}(\\log_2 n)$.\n",
    "\n",
    "Note *building* the tree is $\\mathcal{O}(n)$\n"
   ]
  },
  {
   "cell_type": "markdown",
   "metadata": {
    "cell_style": "split"
   },
   "source": [
    "```\n",
    "search(T::BST, k::int)\n",
    "  if T is empty\n",
    "    return false\n",
    "  elseif T.key == k\n",
    "    return true\n",
    "  else\n",
    "    if k <= T.key\n",
    "      search(T.left, k)\n",
    "    else\n",
    "      search(T.right, k)\n",
    "    end\n",
    "  end\n",
    "end\n",
    "```"
   ]
  },
  {
   "cell_type": "markdown",
   "metadata": {
    "cell_style": "split",
    "slideshow": {
     "slide_type": "slide"
    }
   },
   "source": [
    "### Another application: event selection in the Gillespie algorithm\n",
    "\n",
    "Simulates trajectories from a continuous time Markov chain.\n",
    "\n",
    "From $S$ at time $t$, 8 possible states, $S_1\\ldots S_8$, accessible with transition rates, $r_1\\ldots r_8$.\n",
    "\n",
    "Probability of transition $S\\to S_i$ is proportional to $r_i$."
   ]
  },
  {
   "cell_type": "markdown",
   "metadata": {
    "cell_style": "split"
   },
   "source": [
    "<img src=\"files/images/Gillespie1.png\" alt=\"Gillespie\" style=\"width: 300px;\"/>  "
   ]
  },
  {
   "cell_type": "markdown",
   "metadata": {
    "cell_style": "split",
    "slideshow": {
     "slide_type": "slide"
    }
   },
   "source": [
    "### Gillespie algorithm\n",
    "\n",
    "Build the list of partial sums:\n",
    "\n",
    "$$ x_i = \\sum_{j=1}^i r_j $$\n",
    "\n",
    "Generate $x \\sim \\text{Uniform}(0, x_8)$\n",
    "\n",
    "<img src=\"files/images/Gillespie2.png\" alt=\"Interval\" style=\"width: 600px;\"/>  "
   ]
  },
  {
   "cell_type": "markdown",
   "metadata": {
    "cell_style": "split"
   },
   "source": [
    "Find which interval $x$ falls in: find $k$ such that $x_{k-1} \\leq x < x_k$. \n",
    "\n",
    "Update state $S \\to S_k$ and update time $t \\to t+\\Delta t$ where $\\Delta t \\sim \\text{Exponential}(x_8)$.\n",
    "\n",
    "In practice number of transitions, $n$, large. Can we find $k$ faster than $\\mathcal{O}(n)$?\n",
    "\n",
    "*Interval membership problem*."
   ]
  },
  {
   "cell_type": "markdown",
   "metadata": {
    "cell_style": "split",
    "slideshow": {
     "slide_type": "slide"
    }
   },
   "source": [
    "### Fenwick trees\n",
    "\n",
    "<img src=\"files/images/fenwick.png\" alt=\"Fenwick\" style=\"width: 400px;\"/>  \n",
    "\n",
    "A BST variant called a Fenwick tree can solve the interval membership problem in $\\mathcal{O}(\\log_2 n)$ comparisons."
   ]
  },
  {
   "cell_type": "markdown",
   "metadata": {
    "cell_style": "split"
   },
   "source": [
    "Each node in a Fenwick tree stores the sum of the values stored in its children.\n",
    "\n",
    "Leaf nodes also need to store an integer key identifying the interval. \n",
    "\n",
    "Similar to tree search but when descending the right subtree, must remember to exclude the partial sum on the left subtree. "
   ]
  },
  {
   "cell_type": "markdown",
   "metadata": {
    "cell_style": "split",
    "slideshow": {
     "slide_type": "slide"
    }
   },
   "source": [
    "### Fast interval membership\n",
    "```\n",
    "search(T::FT, x::Float)\n",
    "  if T is leaf\n",
    "    return T.key\n",
    "  else\n",
    "    if x <= T.left.value\n",
    "      search(T.left, x)\n",
    "    else\n",
    "      search(T.right, x - T.left.value)\n",
    "    end\n",
    "  end\n",
    "end\n",
    "```\n",
    "\n"
   ]
  },
  {
   "cell_type": "markdown",
   "metadata": {
    "cell_style": "split"
   },
   "source": [
    "If the tree is balanced, this search is $\\mathcal{O}(\\log_2 n)$ (depth of tree).\n",
    "\n",
    "Gotcha? Transition rates usually depend on state. Reconstructing the tree at each step would be $\\mathcal{O}(n)$.\n",
    "\n",
    "Partial sums can be updated in $\\mathcal{O}(\\log_2 n)$ operations. OK if small number of rates change at each step.\n",
    "\n",
    "Need occasional rebalancing."
   ]
  },
  {
   "cell_type": "code",
   "execution_count": null,
   "metadata": {},
   "outputs": [],
   "source": []
  }
 ],
 "metadata": {
  "celltoolbar": "Slideshow",
  "kernelspec": {
   "display_name": "Julia 1.5.1",
   "language": "julia",
   "name": "julia-1.5"
  },
  "language_info": {
   "file_extension": ".jl",
   "mimetype": "application/julia",
   "name": "julia",
   "version": "1.5.1"
  }
 },
 "nbformat": 4,
 "nbformat_minor": 2
}
