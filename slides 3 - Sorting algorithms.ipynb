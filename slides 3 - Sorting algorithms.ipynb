{
 "cells": [
  {
   "cell_type": "code",
   "execution_count": 1,
   "metadata": {},
   "outputs": [
    {
     "name": "stderr",
     "output_type": "stream",
     "text": [
      "\u001b[32m\u001b[1m Activating\u001b[22m\u001b[39m environment at `~/GitHub/MathSys/teaching/MA934/MA934-slides/Project.toml`\n"
     ]
    }
   ],
   "source": [
    "# Set up environment with correct dependencies\n",
    "using Pkg\n",
    "Pkg.activate(\".\")\n",
    "Pkg.instantiate()"
   ]
  },
  {
   "cell_type": "code",
   "execution_count": 2,
   "metadata": {
    "slideshow": {
     "slide_type": "skip"
    }
   },
   "outputs": [],
   "source": [
    "using Plots\n",
    "using LaTeXStrings\n",
    "pyplot()\n",
    "# Set default fonts for all plots\n",
    "fnt = Plots.font(\"DejaVu Sans\", 8.0)\n",
    "default(titlefont=fnt, guidefont=fnt, tickfont=fnt, legendfont=fnt)"
   ]
  },
  {
   "cell_type": "markdown",
   "metadata": {
    "slideshow": {
     "slide_type": "slide"
    }
   },
   "source": [
    "## MA934\n",
    "\n",
    "## Recursive functions and sorting algorithms\n",
    "\n",
    "### How your choice of algorithm can really make a difference"
   ]
  },
  {
   "cell_type": "markdown",
   "metadata": {
    "slideshow": {
     "slide_type": "slide"
    }
   },
   "source": [
    "### Iteration vs recursion\n",
    "\n",
    "* An iterative function is one that loops to repeat some part of the code. \n",
    "* A recursive function is one that calls itself again to repeat the code.\n",
    "\n",
    "Recursive functions are a natural framework for implementing divide and conquer algorithms."
   ]
  },
  {
   "cell_type": "markdown",
   "metadata": {
    "cell_style": "split",
    "slideshow": {
     "slide_type": "slide"
    }
   },
   "source": [
    "### Anatomy of recursive functions\n",
    "\n",
    "Every recursive function consists of:\n",
    "* one or more **recursive cases**: inputs for which the function calls itself \n",
    "* one or more **base cases**: inputs for which the function returns a (usually simple) value."
   ]
  },
  {
   "cell_type": "code",
   "execution_count": 1,
   "metadata": {
    "cell_style": "split"
   },
   "outputs": [
    {
     "data": {
      "text/plain": [
       "f (generic function with 1 method)"
      ]
     },
     "execution_count": 1,
     "metadata": {},
     "output_type": "execute_result"
    }
   ],
   "source": [
    "function f(n)\n",
    "    if n==1\n",
    "        return 1\n",
    "    else\n",
    "        return n*f(n-1)\n",
    "    end\n",
    "end"
   ]
  },
  {
   "cell_type": "code",
   "execution_count": 2,
   "metadata": {
    "cell_style": "split"
   },
   "outputs": [
    {
     "name": "stdout",
     "output_type": "stream",
     "text": [
      "[1, 2, 6, 24, 120, 720, 5040, 40320, 362880, 3628800]"
     ]
    }
   ],
   "source": [
    "print([f(n) for n in 1:10])"
   ]
  },
  {
   "cell_type": "markdown",
   "metadata": {
    "cell_style": "split"
   },
   "source": [
    "Recursive function calls incur additional computational overheads."
   ]
  },
  {
   "cell_type": "markdown",
   "metadata": {
    "cell_style": "split",
    "slideshow": {
     "slide_type": "slide"
    }
   },
   "source": [
    "### Overheads: call stack and recursion depth\n",
    "$$\n",
    "\\begin{align}\n",
    "f(4) &= 4 * f(3)\\\\  \n",
    "     &= 4*(3*(f(2))\\\\  \n",
    "     &= 4*(3*(2*f(1))\\\\  \n",
    "     &= 4*(3*(2*(1*f(0))))\\\\  \n",
    "     &= 4*(3*(2*(1*1)))\\\\\n",
    "     &= 4*(3*(2*1))\\\\  \n",
    "     &= 4*(3*2)\\\\  \n",
    "     &= 4*6 = 24.  \n",
    "\\end{align}\n",
    "$$"
   ]
  },
  {
   "cell_type": "markdown",
   "metadata": {
    "cell_style": "split"
   },
   "source": [
    "* Variables and information associated with each call stored on the **call stack** until base case is reached.\n",
    "* **Recursion depth**: maximum size of the call stack.\n",
    "* Infinite (or excessive) recursion depth leads to **stack overflow**."
   ]
  },
  {
   "cell_type": "markdown",
   "metadata": {
    "cell_style": "split",
    "slideshow": {
     "slide_type": "slide"
    }
   },
   "source": [
    "### Example : iterative calculation of the Fibonacci sequence\n",
    "\n",
    "The Fibonacci numbers are defined by the recursion:\n",
    "\n",
    "$$F_n = F_{n-1} + F_{n-2}$$ \n",
    "\n",
    "with $F_1 = 0$, $F_2 = 1$.\n",
    "\n",
    "Obvious approach by iteration:\n"
   ]
  },
  {
   "cell_type": "code",
   "execution_count": 3,
   "metadata": {
    "cell_style": "split"
   },
   "outputs": [
    {
     "data": {
      "text/plain": [
       "Fib1 (generic function with 1 method)"
      ]
     },
     "execution_count": 3,
     "metadata": {},
     "output_type": "execute_result"
    }
   ],
   "source": [
    "function Fib1(n)\n",
    "    if n==1 || n ==2\n",
    "        return n-1\n",
    "    else\n",
    "    a = zeros(Int64,n)\n",
    "    a[1] = 0; a[2] = 1\n",
    "    for i in 3:n\n",
    "        a[i] = a[i-1] + a[i-2]\n",
    "    end\n",
    "    return a[n]\n",
    "    end\n",
    "end\n"
   ]
  },
  {
   "cell_type": "code",
   "execution_count": 4,
   "metadata": {
    "cell_style": "split"
   },
   "outputs": [
    {
     "name": "stdout",
     "output_type": "stream",
     "text": [
      "[0, 1, 1, 2, 3, 5, 8, 13, 21, 34]"
     ]
    }
   ],
   "source": [
    "print(Fib1.(1:10))"
   ]
  },
  {
   "cell_type": "markdown",
   "metadata": {
    "slideshow": {
     "slide_type": "slide"
    }
   },
   "source": [
    "### Example : recursive calculation of the Fibonacci sequence \n",
    "\n",
    "This can also by done recursively:\n"
   ]
  },
  {
   "cell_type": "code",
   "execution_count": 5,
   "metadata": {},
   "outputs": [
    {
     "data": {
      "text/plain": [
       "Fib2 (generic function with 1 method)"
      ]
     },
     "execution_count": 5,
     "metadata": {},
     "output_type": "execute_result"
    }
   ],
   "source": [
    "function Fib2(n)\n",
    "    if n == 1 || n == 2\n",
    "        return n-1\n",
    "    else\n",
    "        return Fib2(n-1) + Fib2(n-2)\n",
    "    end\n",
    "end"
   ]
  },
  {
   "cell_type": "code",
   "execution_count": 6,
   "metadata": {},
   "outputs": [
    {
     "name": "stdout",
     "output_type": "stream",
     "text": [
      "[0, 1, 1, 2, 3, 5, 8, 13, 21, 34]"
     ]
    }
   ],
   "source": [
    "print(Fib2.(1:10))"
   ]
  },
  {
   "cell_type": "markdown",
   "metadata": {
    "cell_style": "split",
    "slideshow": {
     "slide_type": "slide"
    }
   },
   "source": [
    "### Aside : memoization\n",
    "\n",
    "Memoization is a technique that uses a lookup table to \"remember\" the values returned by a function for previously evaluated inputs. Avoids repeated evaluations with the same input.\n",
    "\n",
    "Here is another Fibonacci function that combines memoization with recursion:"
   ]
  },
  {
   "cell_type": "code",
   "execution_count": 7,
   "metadata": {
    "cell_style": "split"
   },
   "outputs": [
    {
     "data": {
      "text/plain": [
       "Fib3 (generic function with 1 method)"
      ]
     },
     "execution_count": 7,
     "metadata": {},
     "output_type": "execute_result"
    }
   ],
   "source": [
    "memo = Dict()\n",
    "memo[1] = 0\n",
    "memo[2] = 1\n",
    "\n",
    "function Fib3(n)\n",
    "    if !(n in keys(memo))\n",
    "        memo[n]=Fib3(n-1)+Fib3(n-2)\n",
    "    end\n",
    "    return memo[n]\n",
    "end\n",
    "        "
   ]
  },
  {
   "cell_type": "code",
   "execution_count": 8,
   "metadata": {
    "cell_style": "split"
   },
   "outputs": [
    {
     "name": "stdout",
     "output_type": "stream",
     "text": [
      "[0, 1, 1, 2, 3, 5, 8, 13, 21, 34]"
     ]
    }
   ],
   "source": [
    "print(Fib3.(1:10))"
   ]
  },
  {
   "cell_type": "markdown",
   "metadata": {
    "slideshow": {
     "slide_type": "slide"
    }
   },
   "source": [
    "> Take home :  there are often lots of ways of doing the same thing.  \n",
    "> Now let's look at something less trivial.\n",
    " \n",
    "### Sorting\n",
    "\n",
    "\n",
    "\n",
    "Sorting is the task of placing an unordered list of integers in order with as few comparisons as possible.\n",
    "\n",
    "There are **lots** of ways of doing this."
   ]
  },
  {
   "cell_type": "markdown",
   "metadata": {
    "slideshow": {
     "slide_type": "slide"
    }
   },
   "source": [
    "### Insertion sort - an iterative sort\n",
    "\n",
    "Insertion sort: step through each item in turn, placing it in the appropriate location among the previously examined items:\n",
    "\n",
    "![insertion sort](files/images/insertionSort_idea.jpg)"
   ]
  },
  {
   "cell_type": "markdown",
   "metadata": {
    "slideshow": {
     "slide_type": "slide"
    }
   },
   "source": [
    "![insertion sort](files/images/insertionSort_step1.jpg)"
   ]
  },
  {
   "cell_type": "markdown",
   "metadata": {
    "slideshow": {
     "slide_type": "slide"
    }
   },
   "source": [
    "![insertion sort](files/images/insertionSort_step2.jpg)"
   ]
  },
  {
   "cell_type": "markdown",
   "metadata": {
    "slideshow": {
     "slide_type": "slide"
    }
   },
   "source": [
    "![insertion sort](files/images/insertionSort_step3.jpg)"
   ]
  },
  {
   "cell_type": "markdown",
   "metadata": {
    "slideshow": {
     "slide_type": "slide"
    }
   },
   "source": [
    "![insertion sort](files/images/insertionSort_step4.jpg)"
   ]
  },
  {
   "cell_type": "markdown",
   "metadata": {
    "slideshow": {
     "slide_type": "slide"
    }
   },
   "source": [
    "### Computational complexity of insertion sort\n",
    "\n",
    "Consider sorting an array of length $n$.\n",
    "* **Best case**: if input array is already in order? $n$ comparisons.\n",
    "* **Worst case**: if input array is in reverse order? $\\frac{1}{2}\\,n\\,(n+1)$ comparisons. Why?\n",
    "Computational complexity of insertion sort is therefore $\\mathcal{O}(n^2)$.\n",
    "\n",
    "Typical case $\\sim n^2$. Can we do better?"
   ]
  },
  {
   "cell_type": "markdown",
   "metadata": {
    "slideshow": {
     "slide_type": "slide"
    }
   },
   "source": [
    "### Partial sorts\n",
    "\n",
    "\n",
    "A **partial q-sort** of a list of numbers is an ordering in which all subsequences with stride q are sorted.  \n",
    "<img src=\"files/images/partialSort.jpg\" alt=\"Drawing\" style=\"width: 600px;\"/>  \n",
    "A trivial modification of insertion sort does partial q-sorts\n"
   ]
  },
  {
   "cell_type": "markdown",
   "metadata": {
    "slideshow": {
     "slide_type": "slide"
    }
   },
   "source": [
    "### ShellSort - improving on insertion sort\n",
    "\n",
    "* ShellSort: do a succession of partial q-sorts, with q taken from a pre-specified list, Q. \n",
    "* Start from a large increment and finish with increment 1, which produces a fully sorted list. \n",
    "* Performance depends on $Q$ but generally faster than insertion sort.\n",
    "\n",
    "Example. $Q = \\left\\{2^i : i=i_{max},i_{max} −1,...,2,1,0\\right\\}$ where $i_{max}$ is the largest $i$ with $2^i < \\frac{n}{2}$. Typical case $\\sim n^\\frac{3}{2}$ (although worst case still $n^2$.).\n"
   ]
  },
  {
   "cell_type": "markdown",
   "metadata": {
    "slideshow": {
     "slide_type": "slide"
    }
   },
   "source": [
    "### ShellSort - improving on insertion sort\n",
    "\n",
    "* Surprising (at first) that ShellSort beats insertion sort since the last pass is a full insertion sort. Why is this?\n",
    "* A better choice of increments is $Q = \\left\\{\\frac{1}{2}(3^i-1) : i=i_{max},i_{max} −1,...,2,1\\right\\}$. This gives typical case $\\sim n^\\frac{5}{4}$ and worst case $\\sim n^\\frac{3}{2}$.\n",
    "* General understanding of the computational complexity of ShellSort is an open problem.\n"
   ]
  },
  {
   "cell_type": "markdown",
   "metadata": {
    "slideshow": {
     "slide_type": "slide"
    }
   },
   "source": [
    "### Mergesort - a recursive sort\n",
    "\n",
    "* divide-and-conquer sorting strategy invented by Von Neumann. \n",
    "* Mergesort interlaces two **sorted** arrays into a larger sorted array.\n",
    "* Given the interlace() function, mergesort is very simple:\n",
    "\n",
    "```Python\n",
    "def mergeSort(A):\n",
    "   n=len(A)\n",
    "   if n == 1:\n",
    "      return A  # an array of length 1 is already sorted\n",
    "   else: m=n/2\n",
    "      return interlace(mergeSort(A[0:m]), \n",
    "                       mergeSort(A[m:n]))\n",
    "```"
   ]
  },
  {
   "cell_type": "markdown",
   "metadata": {
    "slideshow": {
     "slide_type": "slide"
    }
   },
   "source": [
    "### Mergesort : the interlace() function"
   ]
  },
  {
   "cell_type": "code",
   "execution_count": 4,
   "metadata": {},
   "outputs": [
    {
     "data": {
      "text/plain": [
       "interlace (generic function with 1 method)"
      ]
     },
     "execution_count": 4,
     "metadata": {},
     "output_type": "execute_result"
    }
   ],
   "source": [
    "function interlace(A::Array{Int64,1}, B::Array{Int64,1})\n",
    "      if length(A) == 0\n",
    "        return B\n",
    "      elseif length(B) == 0\n",
    "        return A\n",
    "      elseif A[1] < B[1]\n",
    "        return vcat([A[1]], interlace(A[2:end], B))\n",
    "      else\n",
    "        return vcat([B[1]], interlace(A, B[2:end]))\n",
    "      end    \n",
    "    end"
   ]
  },
  {
   "cell_type": "code",
   "execution_count": 5,
   "metadata": {},
   "outputs": [
    {
     "name": "stdout",
     "output_type": "stream",
     "text": [
      "[1, 2, 3, 4, 5, 6, 8]"
     ]
    }
   ],
   "source": [
    "print(interlace([1,3,5],[2,4,6,8]))"
   ]
  },
  {
   "cell_type": "markdown",
   "metadata": {
    "cell_style": "split",
    "slideshow": {
     "slide_type": "slide"
    }
   },
   "source": [
    "### Complexity of Mergesort\n",
    "\n",
    "The ```interlace()``` function can be shown to be $\\mathcal{O}(n)$ where $n$ is the size of the output array.  \n",
    "At level $k$, there are $2^{k-1}$ ```interlace()``` calls of size $\\frac{n}{2^{k-1}}$.  \n",
    "Therefore, each level is $\\mathcal{O}(n)$.  \n",
    "Number of levels, $L$, satisfies $n = 2^L$ so $L = \\log_2n$. \n",
    "\n"
   ]
  },
  {
   "cell_type": "markdown",
   "metadata": {
    "cell_style": "split"
   },
   "source": [
    "![Float32](files/images/recursionTree.jpg)"
   ]
  },
  {
   "cell_type": "markdown",
   "metadata": {
    "cell_style": "split"
   },
   "source": [
    "Heuristically, expect\n",
    "$$ F(n) = \\mathcal{O}(n\\,\\log_2n) $$"
   ]
  },
  {
   "cell_type": "markdown",
   "metadata": {
    "cell_style": "split",
    "slideshow": {
     "slide_type": "slide"
    }
   },
   "source": [
    "### Complexity of Mergesort\n",
    "\n",
    "We can also write a recursion equation for $F(n)$ based on the function defnition:\n",
    "\n",
    "$$ F(n) = 2\\,F(\\frac{n}{2}) + n^1 $$\n",
    "\n",
    "with $F(1) = 1$.\n",
    "\n",
    "This is the \"Master theorem\" case 2 so $\\mathcal{O}(n\\log_2n)$."
   ]
  },
  {
   "cell_type": "markdown",
   "metadata": {
    "cell_style": "split"
   },
   "source": [
    "![Float32](files/images/sorting.jpg)"
   ]
  },
  {
   "cell_type": "code",
   "execution_count": 3,
   "metadata": {},
   "outputs": [
    {
     "data": {
      "image/png": "[encoded data removed]"
     },
     "execution_count": 3,
     "metadata": {},
     "output_type": "execute_result"
    }
   ],
   "source": [
    "plot()"
   ]
  },
  {
   "cell_type": "code",
   "execution_count": null,
   "metadata": {},
   "outputs": [],
   "source": []
  }
 ],
 "metadata": {
  "celltoolbar": "Slideshow",
  "kernelspec": {
   "display_name": "Julia 1.5.1",
   "language": "julia",
   "name": "julia-1.5"
  },
  "language_info": {
   "file_extension": ".jl",
   "mimetype": "application/julia",
   "name": "julia",
   "version": "1.5.1"
  }
 },
 "nbformat": 4,
 "nbformat_minor": 2
}
